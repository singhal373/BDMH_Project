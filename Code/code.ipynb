{
  "nbformat": 4,
  "nbformat_minor": 0,
  "metadata": {
    "colab": {
      "name": "Project.ipynb",
      "provenance": [],
      "collapsed_sections": []
    },
    "kernelspec": {
      "name": "python3",
      "display_name": "Python 3"
    },
    "language_info": {
      "name": "python"
    },
    "accelerator": "GPU"
  },
  "cells": [
    {
      "cell_type": "code",
      "metadata": {
        "id": "hdOPiI26-rw9",
        "colab": {
          "base_uri": "https://localhost:8080/"
        },
        "outputId": "175f9def-c925-4157-d5ea-6030ba4e6b7a"
      },
      "source": [
        "!pip install shap"
      ],
      "execution_count": 43,
      "outputs": [
        {
          "output_type": "stream",
          "text": [
            "Requirement already satisfied: shap in /usr/local/lib/python3.7/dist-packages (0.39.0)\n",
            "Requirement already satisfied: cloudpickle in /usr/local/lib/python3.7/dist-packages (from shap) (1.3.0)\n",
            "Requirement already satisfied: slicer==0.0.7 in /usr/local/lib/python3.7/dist-packages (from shap) (0.0.7)\n",
            "Requirement already satisfied: numpy in /usr/local/lib/python3.7/dist-packages (from shap) (1.19.5)\n",
            "Requirement already satisfied: numba in /usr/local/lib/python3.7/dist-packages (from shap) (0.51.2)\n",
            "Requirement already satisfied: tqdm>4.25.0 in /usr/local/lib/python3.7/dist-packages (from shap) (4.41.1)\n",
            "Requirement already satisfied: scipy in /usr/local/lib/python3.7/dist-packages (from shap) (1.4.1)\n",
            "Requirement already satisfied: scikit-learn in /usr/local/lib/python3.7/dist-packages (from shap) (0.22.2.post1)\n",
            "Requirement already satisfied: pandas in /usr/local/lib/python3.7/dist-packages (from shap) (1.1.5)\n",
            "Requirement already satisfied: llvmlite<0.35,>=0.34.0.dev0 in /usr/local/lib/python3.7/dist-packages (from numba->shap) (0.34.0)\n",
            "Requirement already satisfied: setuptools in /usr/local/lib/python3.7/dist-packages (from numba->shap) (54.2.0)\n",
            "Requirement already satisfied: joblib>=0.11 in /usr/local/lib/python3.7/dist-packages (from scikit-learn->shap) (1.0.1)\n",
            "Requirement already satisfied: python-dateutil>=2.7.3 in /usr/local/lib/python3.7/dist-packages (from pandas->shap) (2.8.1)\n",
            "Requirement already satisfied: pytz>=2017.2 in /usr/local/lib/python3.7/dist-packages (from pandas->shap) (2018.9)\n",
            "Requirement already satisfied: six>=1.5 in /usr/local/lib/python3.7/dist-packages (from python-dateutil>=2.7.3->pandas->shap) (1.15.0)\n"
          ],
          "name": "stdout"
        }
      ]
    },
    {
      "cell_type": "code",
      "metadata": {
        "id": "o11-hSj1hPCI"
      },
      "source": [
        "import numpy as np\n",
        "import pandas as pd\n",
        "from sklearn.model_selection import train_test_split\n",
        "from sklearn.tree import DecisionTreeClassifier\n",
        "from sklearn.naive_bayes import GaussianNB\n",
        "from sklearn.ensemble import GradientBoostingClassifier\n",
        "from sklearn.metrics import roc_curve\n",
        "from sklearn.metrics import roc_auc_score\n",
        "from sklearn.metrics import precision_recall_curve\n",
        "from sklearn.metrics import f1_score\n",
        "from sklearn.metrics import auc\n",
        "from matplotlib import pyplot\n",
        "import xgboost\n",
        "import shap"
      ],
      "execution_count": 44,
      "outputs": []
    },
    {
      "cell_type": "code",
      "metadata": {
        "colab": {
          "base_uri": "https://localhost:8080/"
        },
        "id": "j2UDphAT-RTJ",
        "outputId": "523aa01d-a108-4f72-cd1d-8953bbdd2216"
      },
      "source": [
        "from google.colab import drive\n",
        "drive.mount('/content/drive')"
      ],
      "execution_count": 45,
      "outputs": [
        {
          "output_type": "stream",
          "text": [
            "Drive already mounted at /content/drive; to attempt to forcibly remount, call drive.mount(\"/content/drive\", force_remount=True).\n"
          ],
          "name": "stdout"
        }
      ]
    },
    {
      "cell_type": "code",
      "metadata": {
        "id": "iUEQRQEi-flk",
        "colab": {
          "base_uri": "https://localhost:8080/"
        },
        "outputId": "c277c1a9-e47f-40e1-bdad-f80cadd1c89e"
      },
      "source": [
        "df=pd.read_csv('/content/drive/MyDrive/IIITD/Semester 6/BDMH/Project/data.csv')\n",
        "df=df.dropna()\n",
        "df=df[df.cough != 'None']\n",
        "df=df[df.fever != 'None']\n",
        "df=df[df.sore_throat != 'None']\n",
        "df=df[df.age_60_and_above != 'None']\n",
        "df=df[df.gender != 'None']\n",
        "df=df[df.corona_result != 'other']\n",
        "print(df.head())\n",
        "print(df.shape)"
      ],
      "execution_count": 46,
      "outputs": [
        {
          "output_type": "stream",
          "text": [
            "Columns (2,3,4,5,6,8) have mixed types.Specify dtype option on import or set low_memory=False.\n"
          ],
          "name": "stderr"
        },
        {
          "output_type": "stream",
          "text": [
            "        Unnamed: 0   test_date cough  ... age_60_and_above  gender test_indication\n",
            "122808      122808  2020-04-14     1  ...              Yes    male           Other\n",
            "122809      122809  2020-04-14     1  ...               No  female           Other\n",
            "122810      122810  2020-04-14     0  ...               No  female           Other\n",
            "122811      122811  2020-04-14     0  ...               No  female          Abroad\n",
            "122812      122812  2020-04-14     1  ...              Yes  female           Other\n",
            "\n",
            "[5 rows x 11 columns]\n",
            "(2288192, 11)\n"
          ],
          "name": "stdout"
        }
      ]
    },
    {
      "cell_type": "code",
      "metadata": {
        "id": "kb7-g8f-AanV",
        "colab": {
          "base_uri": "https://localhost:8080/"
        },
        "outputId": "d5184fad-d174-4e7e-9644-14fa54c5b0ad"
      },
      "source": [
        "x=df[['cough','fever','sore_throat','shortness_of_breath','head_ache','age_60_and_above','gender','test_indication']]\n",
        "y=df[['corona_result']]\n",
        "x=x.to_numpy(dtype=str)\n",
        "#### Changing x\n",
        "tmp=x[:,5]\n",
        "tmp[tmp=='No']=0\n",
        "tmp[tmp=='Yes']=1\n",
        "tmp=x[:,6]\n",
        "tmp[tmp=='female']=0\n",
        "tmp[tmp=='male']=1\n",
        "tmp=x[:,7]\n",
        "tmp[tmp=='Abroad']=0\n",
        "tmp[tmp=='Contact with confirmed']=1\n",
        "tmp[tmp=='Other']=2\n",
        "x=x.astype(int)\n",
        "##### Changing y\n",
        "y=y.to_numpy()\n",
        "y=y.reshape((y.shape[0],))\n",
        "y[y=='negative']=0\n",
        "y[y=='positive']=1\n",
        "y=y.astype(int)\n",
        "print(x.shape,y.shape)"
      ],
      "execution_count": 62,
      "outputs": [
        {
          "output_type": "stream",
          "text": [
            "(2288192, 8) (2288192,)\n"
          ],
          "name": "stdout"
        }
      ]
    },
    {
      "cell_type": "code",
      "metadata": {
        "colab": {
          "base_uri": "https://localhost:8080/"
        },
        "id": "h20sNO6bTBGk",
        "outputId": "f0a47a5c-4acd-41f3-d092-e6de24a61fae"
      },
      "source": [
        "##### EDA\n"
      ],
      "execution_count": 74,
      "outputs": [
        {
          "output_type": "stream",
          "text": [
            "[0 1] [2176128  112064]\n"
          ],
          "name": "stdout"
        }
      ]
    },
    {
      "cell_type": "code",
      "metadata": {
        "id": "Z5FNkbiWEves"
      },
      "source": [
        "x_train,x_test,y_train,y_test=train_test_split(x,y,test_size=0.3,stratify=y,random_state=22)"
      ],
      "execution_count": 66,
      "outputs": []
    },
    {
      "cell_type": "code",
      "metadata": {
        "colab": {
          "base_uri": "https://localhost:8080/"
        },
        "id": "5LEx8gxsTP2H",
        "outputId": "fc2cb2dc-f8cd-4ac5-8a40-eab701ab4ce3"
      },
      "source": [
        "# Decision Tree\n",
        "model = DecisionTreeClassifier(random_state=30)\n",
        "model.fit(x_train,y_train)\n",
        "y_pred=model.predict(x_test)\n",
        "print(model.score(x_test,y_test))"
      ],
      "execution_count": 68,
      "outputs": [
        {
          "output_type": "stream",
          "text": [
            "0.9307284640866593\n"
          ],
          "name": "stdout"
        }
      ]
    },
    {
      "cell_type": "code",
      "metadata": {
        "colab": {
          "base_uri": "https://localhost:8080/"
        },
        "id": "f4X8CEWNEcle",
        "outputId": "d17324bd-d4e3-425d-ed3f-863623e23bf5"
      },
      "source": [
        "# GNB \n",
        "model_gnb = GaussianNB()\n",
        "model_gnb.fit(x_train,y_train)\n",
        "y_pred=model_gnb.predict(x_test)\n",
        "model_gnb.score(x_test,y_test)"
      ],
      "execution_count": 67,
      "outputs": [
        {
          "output_type": "execute_result",
          "data": {
            "text/plain": [
              "0.9052163424419265"
            ]
          },
          "metadata": {
            "tags": []
          },
          "execution_count": 67
        }
      ]
    },
    {
      "cell_type": "code",
      "metadata": {
        "colab": {
          "base_uri": "https://localhost:8080/"
        },
        "id": "fM4qA3aoLLTR",
        "outputId": "bba7b3ef-fbcc-48a8-9750-2e7cd3039e7d"
      },
      "source": [
        "# gradient boosting classifier\n",
        "model_gb = GradientBoostingClassifier(max_depth=4,random_state=30)\n",
        "model_gb.fit(x_train,y_train)\n",
        "y_pred=model_gb.predict(x_test)\n",
        "model_gb.score(x_test,y_test)"
      ],
      "execution_count": 69,
      "outputs": [
        {
          "output_type": "execute_result",
          "data": {
            "text/plain": [
              "0.9306599966786023"
            ]
          },
          "metadata": {
            "tags": []
          },
          "execution_count": 69
        }
      ]
    },
    {
      "cell_type": "code",
      "metadata": {
        "colab": {
          "base_uri": "https://localhost:8080/",
          "height": 330
        },
        "id": "RGZHauPLvdNy",
        "outputId": "8ef9df0c-792f-4668-c930-1d8fb7b825e1"
      },
      "source": [
        "#### ROC curve and area under ROC\n",
        "\n",
        "ns_probs = [0 for i in range(len(y_test))]\n",
        "\n",
        "dt_probs = model.predict_proba(x_test)\n",
        "dt_probs = dt_probs[:, 1]\n",
        "gnb_probs=model_gnb.predict_proba(x_test)\n",
        "gnb_probs=gnb_probs[:,1]\n",
        "gb_probs=model_gb.predict_proba(x_test)\n",
        "gb_probs=gb_probs[:,1]\n",
        "\n",
        "\n",
        "# calculate score\n",
        "dt_auc = roc_auc_score(y_test, dt_probs)\n",
        "gnb_auc = roc_auc_score(y_test, gnb_probs)\n",
        "gb_auc = roc_auc_score(y_test, gb_probs)\n",
        "\n",
        "# summarize scores\n",
        "print('Decision tree: ROC AUC=%.3f' % (dt_auc))\n",
        "print('GNB: ROC AUC=%.3f' % (gnb_auc))\n",
        "print('Gradient Boosting: ROC AUC=%.3f' % (gb_auc))\n",
        "\n",
        "# calculate roc curves\n",
        "ns_fpr, ns_tpr, _ = roc_curve(y_test, ns_probs)\n",
        "dt_fpr, dt_tpr, _ = roc_curve(y_test, dt_probs)\n",
        "gnb_fpr, gnb_tpr, _ = roc_curve(y_test, gnb_probs)\n",
        "gb_fpr, gb_tpr, _ = roc_curve(y_test, gb_probs)\n",
        "\n",
        "# plot the roc curve for the model\n",
        "pyplot.plot(ns_fpr, ns_tpr, linestyle='--')\n",
        "pyplot.plot(dt_fpr, dt_tpr, label='Decision Tree')\n",
        "pyplot.plot(gnb_fpr, gnb_tpr, label='GNB')\n",
        "pyplot.plot(gb_fpr, gb_tpr, label='Gradient Boosting')\n",
        "\n",
        "pyplot.xlabel('False Positive Rate')\n",
        "pyplot.ylabel('True Positive Rate')\n",
        "pyplot.legend()\n",
        "pyplot.show()"
      ],
      "execution_count": 52,
      "outputs": [
        {
          "output_type": "stream",
          "text": [
            "Decision tree: ROC AUC=0.822\n",
            "GNB: ROC AUC=0.811\n",
            "Gradient Boosting: ROC AUC=0.822\n"
          ],
          "name": "stdout"
        },
        {
          "output_type": "display_data",
          "data": {
            "image/png": "[encoded data removed]",
            "text/plain": [
              "<Figure size 432x288 with 1 Axes>"
            ]
          },
          "metadata": {
            "tags": [],
            "needs_background": "light"
          }
        }
      ]
    },
    {
      "cell_type": "code",
      "metadata": {
        "colab": {
          "base_uri": "https://localhost:8080/",
          "height": 330
        },
        "id": "-yEV1W5_yDCd",
        "outputId": "5aa69138-ad15-4721-90fb-1edb3e3a56ee"
      },
      "source": [
        "##### au Precision Recall curves & f1-score\n",
        "\n",
        "# predict probabilities\n",
        "dt_probs = model.predict_proba(x_test)\n",
        "dt_probs = dt_probs[:, 1]\n",
        "gnb_probs = model_gnb.predict_proba(x_test)\n",
        "gnb_probs = gnb_probs[:, 1]\n",
        "gb_probs = model_gb.predict_proba(x_test)\n",
        "gb_probs = gb_probs[:, 1]\n",
        "\n",
        "# predict class values\n",
        "yhat_dt = model.predict(x_test)\n",
        "dt_precision, dt_recall, _ = precision_recall_curve(y_test, dt_probs)\n",
        "dt_f1 = f1_score(y_test, yhat_dt)\n",
        "dt_auc = auc(dt_recall, dt_precision)\n",
        "\n",
        "yhat_gnb = model_gnb.predict(x_test)\n",
        "gnb_precision, gnb_recall, _ = precision_recall_curve(y_test, gnb_probs)\n",
        "gnb_f1 = f1_score(y_test, yhat_gnb)\n",
        "gnb_auc = auc(gnb_recall, gnb_precision)\n",
        "\n",
        "yhat_gb = model_gb.predict(x_test)\n",
        "gb_precision, gb_recall, _ = precision_recall_curve(y_test, gb_probs)\n",
        "gb_f1 = f1_score(y_test, yhat_gb)\n",
        "gb_auc = auc(gb_recall, gb_precision)\n",
        "\n",
        "# summarize scores\n",
        "print('Decision Tree: f1=%.3f auc=%.3f' % (dt_f1, dt_auc))\n",
        "print('GNB: f1=%.3f auc=%.3f' % (gnb_f1, gnb_auc))\n",
        "print('Gradient Boosting: f1=%.3f auc=%.3f' % (gb_f1, gb_auc))\n",
        "\n",
        "# plot the precision-recall curves\n",
        "pyplot.plot(dt_recall, dt_precision, label='Decision Tree')\n",
        "pyplot.plot(gnb_recall, gnb_precision, label='GNB')\n",
        "pyplot.plot(gb_recall, gb_precision, label='Gradient Boosting')\n",
        "\n",
        "pyplot.xlabel('Recall')\n",
        "pyplot.ylabel('Precision')\n",
        "pyplot.legend()\n",
        "pyplot.show()"
      ],
      "execution_count": 53,
      "outputs": [
        {
          "output_type": "stream",
          "text": [
            "Decision Tree: f1=0.618 auc=0.557\n",
            "GNB: f1=0.478 auc=0.520\n",
            "Gradient Boosting: f1=0.623 auc=0.557\n"
          ],
          "name": "stdout"
        },
        {
          "output_type": "display_data",
          "data": {
            "image/png": "[encoded data removed]",
            "text/plain": [
              "<Figure size 432x288 with 1 Axes>"
            ]
          },
          "metadata": {
            "tags": [],
            "needs_background": "light"
          }
        }
      ]
    },
    {
      "cell_type": "code",
      "metadata": {
        "colab": {
          "base_uri": "https://localhost:8080/"
        },
        "id": "Dd9DqF3BgbkX",
        "outputId": "389c0aff-0a58-4956-caad-441c829e813f"
      },
      "source": [
        "feature_names = ['Cough','Fever','Sore Throat','Shortness_of_breath','Headache','Age_60_and_above','Gender','Contact with covid patient']\n",
        "x_df = pd.DataFrame(x_train, columns=feature_names)\n",
        "# train XGBoost model\n",
        "model = xgboost.XGBClassifier().fit(x_df, np.ravel(y_train))\n",
        "# compute SHAP values\n",
        "explainer = shap.Explainer(model, x_df)\n",
        "shap_values = explainer(x_df)\n",
        "shap.plots.beeswarm(shap_values)"
      ],
      "execution_count": null,
      "outputs": [
        {
          "output_type": "stream",
          "text": [
            " 17%|===                 | 266707/1601734 [02:56<14:40]       "
          ],
          "name": "stderr"
        }
      ]
    }
  ]
}